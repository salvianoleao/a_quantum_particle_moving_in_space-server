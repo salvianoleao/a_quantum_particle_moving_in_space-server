{
 "cells": [
  {
   "cell_type": "markdown",
   "metadata": {},
   "source": [
    "# Free Particle"
   ]
  },
  {
   "cell_type": "markdown",
   "metadata": {},
   "source": [
    "### Authors:"
   ]
  },
  {
   "cell_type": "markdown",
   "metadata": {},
   "source": [
    "* [Vinícius Wilian D. Cruzeiro](https://scholar.google.com/citations?user=iAK04WMAAAAJ). E-mail: vwcruzeiro@ufl.edu\n",
    "* Xiang Gao. E-mail: qasdfgtyuiop@ufl.edu\n",
    "* [Valeria D. Kleiman](http://kleiman.chem.ufl.edu/). E-mail: kleiman@ufl.edu\n",
    "\n",
    "Department of Chemistry\n",
    "\n",
    "Physical Chemistry Division\n",
    "\n",
    "University of Florida\n",
    "\n",
    "P.O. Box 117200\n",
    "\n",
    "Gainesville, FL 32611-7200\n",
    "\n",
    "United States"
   ]
  },
  {
   "cell_type": "markdown",
   "metadata": {},
   "source": [
    "**Instructions:**\n",
    "* The reader should follow this notebook in the order that it is presented, executing code cells in consecutive order.\n",
    "* In order to execute a cell you may click on the cell and click the *PLAY* button, press *Shift+Enter*, or got to *Cell-->Run cells*. The user may also execute all cells at once by clicking on *Cell --> Run All* at the toolbar above. \n",
    "* **Important:** Some cells **are only going to execute after the user enters input values in the corresponding boxes**."
   ]
  },
  {
   "cell_type": "code",
   "execution_count": 1,
   "metadata": {
    "collapsed": true
   },
   "outputs": [],
   "source": [
    "from IPython.display import HTML"
   ]
  },
  {
   "cell_type": "code",
   "execution_count": 2,
   "metadata": {},
   "outputs": [
    {
     "data": {
      "text/html": [
       "<script>\n",
       "code_show=true; \n",
       "function code_toggle() {\n",
       " if (code_show){\n",
       " $('div.input').hide();\n",
       " } else {\n",
       " $('div.input').show();\n",
       " }\n",
       " code_show = !code_show\n",
       "} \n",
       "$( document ).ready(code_toggle);\n",
       "</script>\n",
       "The raw code for this IPython notebook is by default hidden for easier reading. As you scroll through code cell,\n",
       "they appear as empty cells\n",
       "with a blue left-side edge\n",
       "To toggle on/off the raw code, click <a href=\"javascript:code_toggle()\">here</a>."
      ],
      "text/plain": [
       "<IPython.core.display.HTML object>"
      ]
     },
     "execution_count": 2,
     "metadata": {},
     "output_type": "execute_result"
    }
   ],
   "source": [
    "HTML('''<script>\n",
    "code_show=true; \n",
    "function code_toggle() {\n",
    " if (code_show){\n",
    " $('div.input').hide();\n",
    " } else {\n",
    " $('div.input').show();\n",
    " }\n",
    " code_show = !code_show\n",
    "} \n",
    "$( document ).ready(code_toggle);\n",
    "</script>\n",
    "The raw code for this IPython notebook is by default hidden for easier reading. As you scroll through code cell,\n",
    "they appear as empty cells\n",
    "with a blue left-side edge\n",
    "To toggle on/off the raw code, click <a href=\"javascript:code_toggle()\">here</a>.''')"
   ]
  },
  {
   "cell_type": "markdown",
   "metadata": {},
   "source": [
    "### Libraries used in this notebook:"
   ]
  },
  {
   "cell_type": "markdown",
   "metadata": {},
   "source": [
    "On the next cell we are going to import the libraries used in this notebook as well as call some important functions."
   ]
  },
  {
   "cell_type": "code",
   "execution_count": 1,
   "metadata": {
    "collapsed": true
   },
   "outputs": [],
   "source": [
    "import matplotlib as mpl # matplotlib library for plotting and visualization\n",
    "import matplotlib.pylab as plt # matplotlib library for plotting and visualization\n",
    "import numpy as np #numpy library for numerical manipulation, especially suited for data arrays\n",
    "from ipywidgets import interact"
   ]
  },
  {
   "cell_type": "markdown",
   "metadata": {},
   "source": [
    "In the next cell we are shutting down eventual warnings displayed by IPython. This cell is optional."
   ]
  },
  {
   "cell_type": "code",
   "execution_count": 2,
   "metadata": {
    "collapsed": true
   },
   "outputs": [],
   "source": [
    "import warnings\n",
    "warnings.filterwarnings('ignore')"
   ]
  },
  {
   "cell_type": "markdown",
   "metadata": {},
   "source": [
    "Executing the next cell prints on the screen the versions of IPython, Python and its libraries on your computer. Please check if the versions are up-to-date to facilitate a smooth running of the program."
   ]
  },
  {
   "cell_type": "code",
   "execution_count": 3,
   "metadata": {},
   "outputs": [
    {
     "name": "stdout",
     "output_type": "stream",
     "text": [
      "Python version = 2.7.12 (default, Jul  1 2016, 15:12:24) \n",
      "[GCC 5.4.0 20160609]\n",
      "IPython version = 5.1.0\n",
      "Matplotlib version = 1.11.1\n",
      "Numpy version = 1.11.1\n"
     ]
    }
   ],
   "source": [
    "import sys # checking the version of Python\n",
    "import IPython # checking the version of IPython\n",
    "print(\"Python version = {}\".format(sys.version))\n",
    "print(\"IPython version = {}\".format(IPython.__version__))\n",
    "print(\"Matplotlib version = {}\".format(plt.__version__))\n",
    "print(\"Numpy version = {}\".format(np.__version__))"
   ]
  },
  {
   "cell_type": "markdown",
   "metadata": {},
   "source": [
    "### Special calls:"
   ]
  },
  {
   "cell_type": "markdown",
   "metadata": {},
   "source": [
    "The next cell configures `matplotlib` to show figures embedded within the cells it was executed from, instead of opening a new window for each figure."
   ]
  },
  {
   "cell_type": "code",
   "execution_count": 6,
   "metadata": {
    "collapsed": true
   },
   "outputs": [],
   "source": [
    "%matplotlib inline"
   ]
  },
  {
   "cell_type": "markdown",
   "metadata": {},
   "source": [
    "## Describing the Free Particle"
   ]
  },
  {
   "cell_type": "markdown",
   "metadata": {},
   "source": [
    "We start by describing a free particle: a particle that is not under the influence of a potential.   \n",
    " As any other particle, the state of a ***Free Particle*** is described with a ket $\\left|\\psi(x)\\right>$. In order to learn about this particle (measure its properties) we must construct *Hermitian Operators*. For example, what is the **momentum operator $\\hat P$**?\n",
    " \n",
    "The momentum operator most obey the following property (eigenfunction/eigenvalue equation):\n",
    "\n",
    "$$\\hat P \\left| \\psi_k(x) \\right> =p\\left | \\psi_k(x)\\right>  \\tag{1}$$ \n",
    "\n",
    "where *p* is an eigenvalue of a *Hermitian operator* and therefore it is a real number.\n"
   ]
  },
  {
   "cell_type": "markdown",
   "metadata": {},
   "source": [
    "In the $x$ representation, using the momentum operator as $\\hat P =-i\\hbar \\frac{\\partial }{\\partial x}$, we can solve equation 1 by proposing a function to represent $\\left| \\psi_k(x) \\right>$ as $\\psi_k(x) = c\\ e^{ikx}$, where $k$ is a real number.\n",
    "\n",
    "Let's see if it works:  \n",
    "$$\\hat P \\psi_k(x) =p \\psi_k(x)$$ \n",
    "\n",
    "$$-i\\hbar \\frac{\\partial {c\\ e^{ikx}}}{\\partial x} =-i\\hbar\\ c\\ ik\\ e^{ikx} $$ \n",
    "\n",
    "$$\\hbar k\\ c\\ e^{ikx} = \\hbar k\\ \\psi_k(x) \\tag{2}$$\n",
    "with $p=\\hbar k$"
   ]
  },
  {
   "cell_type": "markdown",
   "metadata": {},
   "source": [
    "Although **$\\psi_k(x)$ can not be normalized**, the constant $c$ is chosen in such a way (see note below) that the function becomes:\n",
    "$$\\large{\\psi_k(x) = \\frac{1}{\\sqrt{2\\pi}} e^{ikx}}$$"
   ]
  },
  {
   "cell_type": "markdown",
   "metadata": {},
   "source": [
    "###  Side note on the normalization factor and Dirac's delta function  "
   ]
  },
  {
   "cell_type": "markdown",
   "metadata": {},
   "source": [
    "The normalization of a bra-ket is given by $$\\left<\\psi_{k'}(x)|\\psi_k(x)\\right> = \\left<k'|k \\right> = \\int^{+\\infty}_{-\\infty} \\psi_{k'}^*(x)\\psi_k(x) dx = \\int^{+\\infty}_{-\\infty} c^* e^{-ik'x} ce^{ikx} dx = |c|^2 \\int^{+\\infty}_{-\\infty} e^{i(k-k')x} dx = |c|^2 2\\pi\\ \\delta(k-k')$$\n",
    "\n",
    "Where we used the definition of the **Dirac's delta function**:\n",
    "$$\\delta(x) = \\frac{1}{2\\pi} \\int^{+\\infty}_{-\\infty} e^{ivx} dv$$\n",
    "which obeys the following properties:\n",
    "$$\\delta(x-a)=0\\ if  x \\neq a$$\n",
    "$$\\int^\\infty_{-\\infty} f(x)\\ \\delta(x-a) \\ dx =f(a)$$\n",
    "\n",
    "The normalization constant $c$ is chosen as $c = \\frac{1}{\\sqrt{2\\pi}}$ in such a way that:\n",
    "$$\\left<\\psi_{k'}(x)|\\psi_k(x)\\right> = \\delta(k-k')$$\n",
    "\n",
    "-------------------"
   ]
  },
  {
   "cell_type": "markdown",
   "metadata": {},
   "source": [
    "### Going back to the ***Free Particle***"
   ]
  },
  {
   "cell_type": "markdown",
   "metadata": {},
   "source": [
    "Once we know the normalized eigenfunctions, we can ask some questions:  \n",
    "* **Q1:** What is the momentum of a free particle?   \n",
    "* **Q2:** What are the units of momentum?\n",
    "* **Q3:** Is the momentum of a *Free Particle*  quantized?\n"
   ]
  },
  {
   "cell_type": "markdown",
   "metadata": {},
   "source": [
    "In SI units, $k$ has units of $\\frac{1}{m}$ and $\\hbar$ has units of $J.s =\\frac{kg.m^{2}}{s}$, therefore from equation 2 we can see that  $p=\\hbar k$ and the units are  $\\frac{J.s}{m} = \\frac{Kg.m}{s}$\n",
    "\n",
    "To visualize the wavefunction $\\psi_k(x)$ we use Euler relationship $[e^{i\\theta}=\\cos(\\theta)+i\\sin(\\theta)]$ and graph separately the Real and Imaginary contributions to the wavefunction (even though the wavefunction is *complex*, the $\\hat P $ is a Hermitian operator, thus the eigenvalues are measurable and real numbers).\n",
    "\n",
    "On the other hand, the Probability Density [$\\psi^*_k(x) \\psi_k(x)$] is a constant, since:\n",
    "\n",
    "$$ \\psi^*_k(x) \\psi_k(x) = \\frac{1}{\\sqrt{2 \\pi}}e^{-ikx}\\frac{1}{\\sqrt{2 \\pi}}e^{ikx} =\\frac{1}{2\\pi}$$"
   ]
  },
  {
   "cell_type": "markdown",
   "metadata": {},
   "source": [
    "You can use the cell below to  enter different values for the momentum wavevector $k$ and the length of space $x$ "
   ]
  },
  {
   "cell_type": "code",
   "execution_count": 4,
   "metadata": {},
   "outputs": [
    {
     "name": "stdout",
     "output_type": "stream",
     "text": [
      "Enter the value for k (in Angstroms-1) = 4\n",
      "Enter the maximum value for x (in Angstroms) = 5\n"
     ]
    },
    {
     "data": {
      "image/png": "[encoded data removed]",
      "text/plain": [
       "<matplotlib.figure.Figure at 0x2abc3113d810>"
      ]
     },
     "metadata": {},
     "output_type": "display_data"
    },
    {
     "data": {
      "image/png": "[encoded data removed]",
      "text/plain": [
       "<matplotlib.figure.Figure at 0x2abc4f2e24d0>"
      ]
     },
     "metadata": {},
     "output_type": "display_data"
    }
   ],
   "source": [
    "# Defining Psi and PsiC (complex conjugate) functions\n",
    "def psi(x,k): return (1.0/np.sqrt(2.0*np.pi))*(np.cos(k*x)+np.sin(k*x)*1j)\n",
    "def psiC(x,k): return (1.0/np.sqrt(2.0*np.pi))*(np.cos(k*x)-np.sin(k*x)*1j)\n",
    "\n",
    "# Reading the input variables from the user\n",
    "# k = float(input(\"Enter the value for k (in Angstroms-1) = \"))\n",
    "# xmax = float(input(\"Enter the maximum value for x (in Angstroms) = \"))\n",
    "\n",
    "def browse_plot_wave():\n",
    "    def plot_wave(k, xmax):\n",
    "        # Generating the wavefunction graph\n",
    "        plt.rcParams.update({'font.size': 18, 'font.family': 'STIXGeneral', 'mathtext.fontset': 'stix'})\n",
    "        x = np.linspace(-xmax, xmax, 900)\n",
    "        fig, ax = plt.subplots()\n",
    "        lim1=1/np.sqrt(2*np.pi) # Maximum value of the wavefunction\n",
    "        ax.axis([-xmax,xmax,-lim1*1.1,lim1*1.1]) # Defining the limits to be plot in the graph\n",
    "        ax.plot(x, psi(x,k).real, label=\"Real\", color=\"blue\") # Ploting the real part of the wavefunction\n",
    "        ax.plot(x, psi(x,k).imag, label=\"Imag.\", color=\"red\") # Ploting the real part of the wavefunction\n",
    "        ax.hlines(0.0, -xmax, xmax, linewidth=1.8, linestyle='--', color=\"black\") # Adding a horizontal line at 0\n",
    "        # Now we define labels, legend, etc\n",
    "        ax.legend(loc=2);\n",
    "        ax.set_xlabel(r'$x$ (Angstroms)')\n",
    "        ax.set_ylabel(r'$\\psi_k(x)$')\n",
    "        str1=r\"$k$ = \"+str(k)+r\" A$^{-1}$\"\n",
    "        plt.title('Wabvefunction for '+str1)\n",
    "        plt.legend(bbox_to_anchor=(1.1, 1), loc=2, borderaxespad=0.0)\n",
    "\n",
    "        # Generating the probability density graph\n",
    "        fig, ax = plt.subplots()\n",
    "        ax.axis([-xmax,xmax,0.0,lim1*lim1*1.4]) # Defining the limits to be plot in the graph\n",
    "        ax.plot(x, psi(x,k)*psiC(x,k),label=\"Probability Density\", color=\"green\") # Plotting the probability density\n",
    "        # Now we define labels, legend, etc\n",
    "        ax.legend(loc=2);\n",
    "        ax.set_xlabel(r'$x$ (Angstroms)')\n",
    "        ax.set_ylabel(r'$\\left|\\psi_k(x)\\right|^2$')\n",
    "        str1=r\"$k$ = \"+str(k)+r\" A$^{-1}$\"\n",
    "        plt.title('Probability Density for '+str1)\n",
    "        plt.legend(bbox_to_anchor=(1.1, 1), loc=2, borderaxespad=0.0)\n",
    "\n",
    "        # Show the plots on the screen once the code reaches this point\n",
    "        plt.show()\n",
    "    interact(plot_wave, k=(0, 10), xmax=(0, 5))"
   ]
  },
  {
   "cell_type": "code",
   "execution_count": null,
   "metadata": {},
   "outputs": [],
   "source": [
    "browse_plot_wave()"
   ]
  }
 ],
 "metadata": {
  "kernelspec": {
   "display_name": "Python 3",
   "language": "python",
   "name": "python3"
  },
  "language_info": {
   "codemirror_mode": {
    "name": "ipython",
    "version": 2
   },
   "file_extension": ".py",
   "mimetype": "text/x-python",
   "name": "python",
   "nbconvert_exporter": "python",
   "pygments_lexer": "ipython2",
   "version": "2.7.12"
  }
 },
 "nbformat": 4,
 "nbformat_minor": 1
}
